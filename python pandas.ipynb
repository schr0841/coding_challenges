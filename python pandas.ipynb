{
 "cells": [
  {
   "cell_type": "markdown",
   "metadata": {},
   "source": [
    "# Python Pandas General Useful Functions"
   ]
  },
  {
   "cell_type": "code",
   "execution_count": 4,
   "metadata": {},
   "outputs": [
    {
     "name": "stdout",
     "output_type": "stream",
     "text": [
      "      Name  Age         City\n",
      "0    Alice   25     New York\n",
      "1      Bob   30  Los Angeles\n",
      "2  Charlie   35      Chicago\n"
     ]
    }
   ],
   "source": [
    "# Generate synthetic dataframe to use for illustration\n",
    "import pandas as pd\n",
    "\n",
    "data = {\n",
    "    'Name': ['Alice', 'Bob', 'Charlie'],\n",
    "    'Age': [25, 30, 35],\n",
    "    'City': ['New York', 'Los Angeles', 'Chicago']\n",
    "}\n",
    "\n",
    "df = pd.DataFrame(data)\n",
    "\n",
    "print(df)"
   ]
  },
  {
   "cell_type": "markdown",
   "metadata": {},
   "source": [
    "## len(df) \n",
    "\n",
    "Number of rows in dataframe. Alternate: shape[0]"
   ]
  },
  {
   "cell_type": "code",
   "execution_count": 5,
   "metadata": {},
   "outputs": [
    {
     "name": "stdout",
     "output_type": "stream",
     "text": [
      "Number of rows in the DataFrame: 3\n"
     ]
    }
   ],
   "source": [
    "\n",
    "# Assuming you have a pandas DataFrame named 'df'\n",
    "num_rows = len(df)\n",
    "\n",
    "print(\"Number of rows in the DataFrame:\", num_rows)\n",
    "\n",
    "# alternate: df.shape[0]"
   ]
  },
  {
   "cell_type": "markdown",
   "metadata": {},
   "source": [
    "## len(df.columns) \n",
    "\n",
    "Number of columns. Alternate: shape[1]"
   ]
  },
  {
   "cell_type": "code",
   "execution_count": 6,
   "metadata": {},
   "outputs": [
    {
     "name": "stdout",
     "output_type": "stream",
     "text": [
      "Number of columns in the DataFrame: 3\n"
     ]
    }
   ],
   "source": [
    "# Assuming you have a pandas DataFrame named 'df'\n",
    "num_columns = len(df.columns)\n",
    "\n",
    "print(\"Number of columns in the DataFrame:\", num_columns)"
   ]
  },
  {
   "cell_type": "markdown",
   "metadata": {},
   "source": [
    "## df.insert() \n",
    "\n",
    "Here's a code stub using df.insert() to insert a new column named \"Category\" into the DataFrame df at index 1, filled with the values \"A\", \"B\", and \"C\":"
   ]
  },
  {
   "cell_type": "code",
   "execution_count": 7,
   "metadata": {},
   "outputs": [
    {
     "name": "stdout",
     "output_type": "stream",
     "text": [
      "      Name Category  Age         City\n",
      "0    Alice        A   25     New York\n",
      "1      Bob        B   30  Los Angeles\n",
      "2  Charlie        C   35      Chicago\n"
     ]
    }
   ],
   "source": [
    "# Assuming you have a pandas DataFrame named 'df'\n",
    "df.insert(1, \"Category\", [\"A\", \"B\", \"C\"])\n",
    "\n",
    "print(df)"
   ]
  },
  {
   "cell_type": "markdown",
   "metadata": {},
   "source": [
    "## df.drop_duplicates(subset)\n",
    "\n",
    "Here's a code stub using df.drop_duplicates(subset) to drop duplicates from a subset of a pandas DataFrame:"
   ]
  },
  {
   "cell_type": "code",
   "execution_count": 8,
   "metadata": {},
   "outputs": [
    {
     "name": "stdout",
     "output_type": "stream",
     "text": [
      "      Name  Age\n",
      "0    Alice   25\n",
      "1      Bob   30\n",
      "3  Charlie   35\n"
     ]
    }
   ],
   "source": [
    "# Create a sample DataFrame with duplicate values in the 'Name' column\n",
    "data = {'Name': ['Alice', 'Bob', 'Alice', 'Charlie'],\n",
    "        'Age': [25, 30, 25, 35]}\n",
    "df = pd.DataFrame(data)\n",
    "\n",
    "# Drop duplicates based on the 'Name' column\n",
    "df = df.drop_duplicates(subset=['Name'])\n",
    "\n",
    "print(df)"
   ]
  },
  {
   "cell_type": "markdown",
   "metadata": {},
   "source": [
    "This code will remove duplicate rows based on the values in the 'Name' column. You can specify other columns in the subset argument to drop duplicates based on those columns as well."
   ]
  },
  {
   "cell_type": "markdown",
   "metadata": {},
   "source": [
    "## df.dropna()\n",
    "\n",
    "subset = list of cols, inplace=false"
   ]
  },
  {
   "cell_type": "code",
   "execution_count": null,
   "metadata": {},
   "outputs": [],
   "source": [
    "import pandas as pd\n",
    "\n",
    "# Create a sample DataFrame with missing values\n",
    "data = {'A': [1, 2, None, 4],\n",
    "        'B': ['a', 'b', None, 'd'],\n",
    "        'C': [10, 20, 30, None]}\n",
    "df = pd.DataFrame(data)\n",
    "\n",
    "# Drop rows containing any missing values\n",
    "df_dropped = df.dropna()\n",
    "\n",
    "print(df_dropped)"
   ]
  },
  {
   "cell_type": "markdown",
   "metadata": {},
   "source": [
    "This code will output:"
   ]
  },
  {
   "cell_type": "markdown",
   "metadata": {},
   "source": [
    "   A  B   C\n",
    "0  1  a  10\n",
    "1  2  b  20"
   ]
  },
  {
   "cell_type": "markdown",
   "metadata": {},
   "source": [
    "As you can see, the rows containing missing values (NaN) have been dropped from the resulting DataFrame df_dropped.\n",
    "\n",
    "You can also use the how parameter of df.dropna() to specify whether to drop rows with any missing values (how='any') or only rows with all missing values (how='all')."
   ]
  },
  {
   "cell_type": "markdown",
   "metadata": {},
   "source": [
    "## df.rename(dict)\n",
    "\n",
    "rename cols according to dict"
   ]
  },
  {
   "cell_type": "code",
   "execution_count": 1,
   "metadata": {},
   "outputs": [
    {
     "name": "stdout",
     "output_type": "stream",
     "text": [
      "  First Name  Year of Birth     Location\n",
      "0      Alice             25     New York\n",
      "1        Bob             30  Los Angeles\n",
      "2    Charlie             35      Chicago\n"
     ]
    }
   ],
   "source": [
    "import pandas as pd\n",
    "\n",
    "# Create a sample DataFrame with original column names\n",
    "data = {'Name': ['Alice', 'Bob', 'Charlie'],\n",
    "        'Age': [25, 30, 35],\n",
    "        'City': ['New York', 'Los Angeles', 'Chicago']}\n",
    "df = pd.DataFrame(data)\n",
    "\n",
    "# Create a dictionary to map old column names to new column names\n",
    "new_names = {'Name': 'First Name', 'Age': 'Year of Birth', 'City': 'Location'}\n",
    "\n",
    "# Rename the columns using the dictionary\n",
    "df = df.rename(columns=new_names)\n",
    "\n",
    "print(df)"
   ]
  },
  {
   "cell_type": "markdown",
   "metadata": {},
   "source": [
    "This code will output:"
   ]
  },
  {
   "cell_type": "markdown",
   "metadata": {},
   "source": [
    "  First Name  Year of Birth  Location\n",
    "0      Alice           25    New York\n",
    "1        Bob           30  Los Angeles\n",
    "2    Charlie           35      Chicago"
   ]
  },
  {
   "cell_type": "markdown",
   "metadata": {},
   "source": [
    "As you can see, the column names have been successfully renamed according to the specified dictionary."
   ]
  },
  {
   "cell_type": "markdown",
   "metadata": {},
   "source": [
    "## df.fillna()"
   ]
  },
  {
   "cell_type": "markdown",
   "metadata": {},
   "source": [
    "## pd.concat([df list], axis=0 or 1)"
   ]
  },
  {
   "cell_type": "markdown",
   "metadata": {},
   "source": [
    "## df.pivot(index, columns, values)"
   ]
  },
  {
   "cell_type": "markdown",
   "metadata": {},
   "source": [
    "## pd.melt(df, id_vars, value_vars, var_name)\n",
    "\n",
    "unpivot df"
   ]
  },
  {
   "cell_type": "markdown",
   "metadata": {},
   "source": [
    "## df.sort_values(column, inplace, ascending)"
   ]
  },
  {
   "cell_type": "markdown",
   "metadata": {},
   "source": []
  }
 ],
 "metadata": {
  "kernelspec": {
   "display_name": "dev",
   "language": "python",
   "name": "python3"
  },
  "language_info": {
   "codemirror_mode": {
    "name": "ipython",
    "version": 3
   },
   "file_extension": ".py",
   "mimetype": "text/x-python",
   "name": "python",
   "nbconvert_exporter": "python",
   "pygments_lexer": "ipython3",
   "version": "3.10.13"
  }
 },
 "nbformat": 4,
 "nbformat_minor": 2
}
