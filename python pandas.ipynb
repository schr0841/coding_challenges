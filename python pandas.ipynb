{
 "cells": [
  {
   "cell_type": "markdown",
   "metadata": {},
   "source": [
    "# Python Pandas General Useful Functions"
   ]
  },
  {
   "cell_type": "code",
   "execution_count": 4,
   "metadata": {},
   "outputs": [
    {
     "name": "stdout",
     "output_type": "stream",
     "text": [
      "      Name  Age         City\n",
      "0    Alice   25     New York\n",
      "1      Bob   30  Los Angeles\n",
      "2  Charlie   35      Chicago\n"
     ]
    }
   ],
   "source": [
    "# Generate synthetic dataframe to use for illustration\n",
    "import pandas as pd\n",
    "\n",
    "data = {\n",
    "    'Name': ['Alice', 'Bob', 'Charlie'],\n",
    "    'Age': [25, 30, 35],\n",
    "    'City': ['New York', 'Los Angeles', 'Chicago']\n",
    "}\n",
    "\n",
    "df = pd.DataFrame(data)\n",
    "\n",
    "print(df)"
   ]
  },
  {
   "cell_type": "markdown",
   "metadata": {},
   "source": [
    "## len(df) \n",
    "\n",
    "Number of rows in dataframe. Alternate: shape[0]"
   ]
  },
  {
   "cell_type": "code",
   "execution_count": 5,
   "metadata": {},
   "outputs": [
    {
     "name": "stdout",
     "output_type": "stream",
     "text": [
      "Number of rows in the DataFrame: 3\n"
     ]
    }
   ],
   "source": [
    "\n",
    "# Assuming you have a pandas DataFrame named 'df'\n",
    "num_rows = len(df)\n",
    "\n",
    "print(\"Number of rows in the DataFrame:\", num_rows)\n",
    "\n",
    "# alternate: df.shape[0]"
   ]
  },
  {
   "cell_type": "markdown",
   "metadata": {},
   "source": [
    "## len(df.columns) \n",
    "\n",
    "Number of columns. Alternate: shape[1]"
   ]
  },
  {
   "cell_type": "code",
   "execution_count": 6,
   "metadata": {},
   "outputs": [
    {
     "name": "stdout",
     "output_type": "stream",
     "text": [
      "Number of columns in the DataFrame: 3\n"
     ]
    }
   ],
   "source": [
    "# Assuming you have a pandas DataFrame named 'df'\n",
    "num_columns = len(df.columns)\n",
    "\n",
    "print(\"Number of columns in the DataFrame:\", num_columns)"
   ]
  },
  {
   "cell_type": "markdown",
   "metadata": {},
   "source": [
    "## df.insert() \n",
    "\n",
    "Here's a code stub using df.insert() to insert a new column named \"Category\" into the DataFrame df at index 1, filled with the values \"A\", \"B\", and \"C\":"
   ]
  },
  {
   "cell_type": "code",
   "execution_count": 7,
   "metadata": {},
   "outputs": [
    {
     "name": "stdout",
     "output_type": "stream",
     "text": [
      "      Name Category  Age         City\n",
      "0    Alice        A   25     New York\n",
      "1      Bob        B   30  Los Angeles\n",
      "2  Charlie        C   35      Chicago\n"
     ]
    }
   ],
   "source": [
    "# Assuming you have a pandas DataFrame named 'df'\n",
    "df.insert(1, \"Category\", [\"A\", \"B\", \"C\"])\n",
    "\n",
    "print(df)"
   ]
  },
  {
   "cell_type": "markdown",
   "metadata": {},
   "source": [
    "## df.drop_duplicates(subset)\n",
    "\n",
    "Here's a code stub using df.drop_duplicates(subset) to drop duplicates from a subset of a pandas DataFrame:"
   ]
  },
  {
   "cell_type": "code",
   "execution_count": 8,
   "metadata": {},
   "outputs": [
    {
     "name": "stdout",
     "output_type": "stream",
     "text": [
      "      Name  Age\n",
      "0    Alice   25\n",
      "1      Bob   30\n",
      "3  Charlie   35\n"
     ]
    }
   ],
   "source": [
    "# Create a sample DataFrame with duplicate values in the 'Name' column\n",
    "data = {'Name': ['Alice', 'Bob', 'Alice', 'Charlie'],\n",
    "        'Age': [25, 30, 25, 35]}\n",
    "df = pd.DataFrame(data)\n",
    "\n",
    "# Drop duplicates based on the 'Name' column\n",
    "df = df.drop_duplicates(subset=['Name'])\n",
    "\n",
    "print(df)"
   ]
  },
  {
   "cell_type": "markdown",
   "metadata": {},
   "source": [
    "This code will remove duplicate rows based on the values in the 'Name' column. You can specify other columns in the subset argument to drop duplicates based on those columns as well."
   ]
  },
  {
   "cell_type": "markdown",
   "metadata": {},
   "source": [
    "## df.dropna()\n",
    "\n",
    "subset = list of cols, inplace=false"
   ]
  },
  {
   "cell_type": "code",
   "execution_count": null,
   "metadata": {},
   "outputs": [],
   "source": [
    "import pandas as pd\n",
    "\n",
    "# Create a sample DataFrame with missing values\n",
    "data = {'A': [1, 2, None, 4],\n",
    "        'B': ['a', 'b', None, 'd'],\n",
    "        'C': [10, 20, 30, None]}\n",
    "df = pd.DataFrame(data)\n",
    "\n",
    "# Drop rows containing any missing values\n",
    "df_dropped = df.dropna()\n",
    "\n",
    "print(df_dropped)"
   ]
  },
  {
   "cell_type": "markdown",
   "metadata": {},
   "source": [
    "This code will output:"
   ]
  },
  {
   "cell_type": "markdown",
   "metadata": {},
   "source": [
    "   A  B   C\n",
    "0  1  a  10\n",
    "1  2  b  20"
   ]
  },
  {
   "cell_type": "markdown",
   "metadata": {},
   "source": [
    "As you can see, the rows containing missing values (NaN) have been dropped from the resulting DataFrame df_dropped.\n",
    "\n",
    "You can also use the how parameter of df.dropna() to specify whether to drop rows with any missing values (how='any') or only rows with all missing values (how='all')."
   ]
  },
  {
   "cell_type": "markdown",
   "metadata": {},
   "source": [
    "## df.rename(dict)\n",
    "\n",
    "rename cols according to dict"
   ]
  },
  {
   "cell_type": "code",
   "execution_count": 1,
   "metadata": {},
   "outputs": [
    {
     "name": "stdout",
     "output_type": "stream",
     "text": [
      "  First Name  Year of Birth     Location\n",
      "0      Alice             25     New York\n",
      "1        Bob             30  Los Angeles\n",
      "2    Charlie             35      Chicago\n"
     ]
    }
   ],
   "source": [
    "import pandas as pd\n",
    "\n",
    "# Create a sample DataFrame with original column names\n",
    "data = {'Name': ['Alice', 'Bob', 'Charlie'],\n",
    "        'Age': [25, 30, 35],\n",
    "        'City': ['New York', 'Los Angeles', 'Chicago']}\n",
    "df = pd.DataFrame(data)\n",
    "\n",
    "# Create a dictionary to map old column names to new column names\n",
    "new_names = {'Name': 'First Name', 'Age': 'Year of Birth', 'City': 'Location'}\n",
    "\n",
    "# Rename the columns using the dictionary\n",
    "df = df.rename(columns=new_names)\n",
    "\n",
    "print(df)"
   ]
  },
  {
   "cell_type": "markdown",
   "metadata": {},
   "source": [
    "This code will output:"
   ]
  },
  {
   "cell_type": "markdown",
   "metadata": {},
   "source": [
    "  First Name  Year of Birth  Location\n",
    "0      Alice           25    New York\n",
    "1        Bob           30  Los Angeles\n",
    "2    Charlie           35      Chicago"
   ]
  },
  {
   "cell_type": "markdown",
   "metadata": {},
   "source": [
    "As you can see, the column names have been successfully renamed according to the specified dictionary."
   ]
  },
  {
   "cell_type": "markdown",
   "metadata": {},
   "source": [
    "## df.fillna()"
   ]
  },
  {
   "cell_type": "markdown",
   "metadata": {},
   "source": [
    "Here's a small sample dataset and code snippet to demonstrate how to use df.fillna() to fill missing values in a pandas DataFrame:"
   ]
  },
  {
   "cell_type": "code",
   "execution_count": 3,
   "metadata": {},
   "outputs": [
    {
     "name": "stdout",
     "output_type": "stream",
     "text": [
      "     A     B     C\n",
      "0  1.0     a  10.0\n",
      "1  2.0     b  20.0\n",
      "2  NaN  None  30.0\n",
      "3  4.0     d   NaN\n"
     ]
    }
   ],
   "source": [
    "import pandas as pd\n",
    "\n",
    "# Create a sample DataFrame with missing values\n",
    "data = {'A': [1, 2, None, 4],\n",
    "        'B': ['a', 'b', None, 'd'],\n",
    "        'C': [10, 20, 30, None]}\n",
    "df = pd.DataFrame(data)\n",
    "\n",
    "print(df)"
   ]
  },
  {
   "cell_type": "code",
   "execution_count": 4,
   "metadata": {},
   "outputs": [
    {
     "name": "stdout",
     "output_type": "stream",
     "text": [
      "         A        B        C\n",
      "0      1.0        a     10.0\n",
      "1      2.0        b     20.0\n",
      "2  unknown  unknown     30.0\n",
      "3      4.0        d  unknown\n"
     ]
    }
   ],
   "source": [
    "# Fill missing values with the value 'unknown'\n",
    "df_filled = df.fillna('unknown')\n",
    "\n",
    "print(df_filled)"
   ]
  },
  {
   "cell_type": "markdown",
   "metadata": {},
   "source": [
    "As you can see, the missing values in the original DataFrame have been replaced with the string 'unknown'.\n",
    "\n",
    "You can also use other methods to fill missing values, such as:\n",
    "\n",
    "- df.fillna(0): Replace missing values with 0.\n",
    "- df.fillna(df.mean()): Replace missing values with the mean of the column.\n",
    "- df.fillna(method='ffill'): Propagate the last valid observation forward.\n",
    "- df.fillna(method='bfill'): Propagate the next valid observation backward.\n",
    "\n",
    "Choose the method that best suits your data and analysis requirements."
   ]
  },
  {
   "cell_type": "markdown",
   "metadata": {},
   "source": [
    "## Concatenating DataFrames with pd.concat()"
   ]
  },
  {
   "cell_type": "code",
   "execution_count": 5,
   "metadata": {},
   "outputs": [
    {
     "name": "stdout",
     "output_type": "stream",
     "text": [
      "Row-wise concatenation:\n",
      "    A   B\n",
      "0  1   4\n",
      "1  2   5\n",
      "2  3   6\n",
      "3  7   9\n",
      "4  8  10\n",
      "\n",
      "Column-wise concatenation:\n",
      "    A  B    A     B\n",
      "0  1  4  7.0   9.0\n",
      "1  2  5  8.0  10.0\n",
      "2  3  6  NaN   NaN\n"
     ]
    }
   ],
   "source": [
    "import pandas as pd\n",
    "\n",
    "# Create two sample DataFrames\n",
    "df1 = pd.DataFrame({'A': [1, 2, 3], 'B': [4, 5, 6]})\n",
    "df2 = pd.DataFrame({'A': [7, 8], 'B': [9, 10]})\n",
    "\n",
    "# Concatenate the DataFrames row-wise (axis=0)\n",
    "df_row_concat = pd.concat([df1, df2], axis=0, ignore_index=True)\n",
    "\n",
    "# Concatenate the DataFrames column-wise (axis=1)\n",
    "df_col_concat = pd.concat([df1, df2], axis=1)\n",
    "\n",
    "print(\"Row-wise concatenation:\\n\", df_row_concat)\n",
    "print(\"\\nColumn-wise concatenation:\\n\", df_col_concat)"
   ]
  },
  {
   "cell_type": "markdown",
   "metadata": {},
   "source": [
    "Explanation:\n",
    "\n",
    "- pd.concat(): This function is used to concatenate multiple DataFrames.\n",
    "- axis=0: Concatenates the DataFrames row-wise, stacking them on top of each other.\n",
    "- axis=1: Concatenates the DataFrames column-wise, placing them side by side.\n",
    "- ignore_index=True: Resets the index of the concatenated DataFrame, starting from 0.\n",
    "\n",
    "As you can see, axis=0 stacks the DataFrames vertically, while axis=1 stacks them horizontally."
   ]
  },
  {
   "cell_type": "markdown",
   "metadata": {},
   "source": [
    "## df.pivot(index, columns, values)"
   ]
  },
  {
   "cell_type": "markdown",
   "metadata": {},
   "source": [
    "Here's a small sample dataset and code snippet to demonstrate how to use df.pivot(index, columns, values) to reshape data in a pandas DataFrame:"
   ]
  },
  {
   "cell_type": "code",
   "execution_count": 6,
   "metadata": {},
   "outputs": [
    {
     "name": "stdout",
     "output_type": "stream",
     "text": [
      "Product       X      Y      Z\n",
      "Category                     \n",
      "A         100.0  200.0    NaN\n",
      "B         300.0    NaN  400.0\n"
     ]
    }
   ],
   "source": [
    "import pandas as pd\n",
    "\n",
    "# Create a sample DataFrame\n",
    "data = {'Category': ['A', 'A', 'B', 'B'],\n",
    "        'Product': ['X', 'Y', 'X', 'Z'],\n",
    "        'Sales': [100, 200, 300, 400]}\n",
    "df = pd.DataFrame(data)\n",
    "\n",
    "# Pivot the DataFrame to create a new DataFrame with 'Category' as the index, 'Product' as the columns, and 'Sales' as the values\n",
    "df_pivoted = df.pivot(index='Category', columns='Product', values='Sales')\n",
    "\n",
    "print(df_pivoted)"
   ]
  },
  {
   "cell_type": "markdown",
   "metadata": {},
   "source": [
    "As you can see, the df.pivot() function reshaped the original DataFrame by moving the unique values from the 'Product' column into new columns and using the unique values from the 'Category' column as the index. The values from the 'Sales' column are placed in the corresponding cells."
   ]
  },
  {
   "cell_type": "markdown",
   "metadata": {},
   "source": [
    "## pd.melt(df, id_vars, value_vars, var_name)"
   ]
  },
  {
   "cell_type": "markdown",
   "metadata": {},
   "source": [
    "Here's a small sample dataset and code snippet to demonstrate how to use pd.melt(df, id_vars, value_vars, var_name) to unpivot a pandas DataFrame:"
   ]
  },
  {
   "cell_type": "code",
   "execution_count": 8,
   "metadata": {},
   "outputs": [
    {
     "name": "stdout",
     "output_type": "stream",
     "text": [
      "  Category  Product Sales_Value\n",
      "0        A  Product           X\n",
      "1        A  Product           Y\n",
      "2        B  Product           X\n",
      "3        B  Product           Z\n",
      "4        A    Sales         100\n",
      "5        A    Sales         200\n",
      "6        B    Sales         300\n",
      "7        B    Sales         400\n"
     ]
    }
   ],
   "source": [
    "import pandas as pd\n",
    "\n",
    "# Create a sample DataFrame\n",
    "data = {'Category': ['A', 'A', 'B', 'B'],\n",
    "        'Product': ['X', 'Y', 'X', 'Z'],\n",
    "        'Sales': [100, 200, 300, 400]}\n",
    "df = pd.DataFrame(data)\n",
    "\n",
    "# Unpivot the DataFrame, keeping 'Category' as the identifier and melting 'Product' and 'Sales'\n",
    "df_melted = df.melt(id_vars='Category', var_name='Product', value_name='Sales_Value')\n",
    "\n",
    "print(df_melted)"
   ]
  },
  {
   "cell_type": "markdown",
   "metadata": {},
   "source": [
    "By using Sales_Value as the value_name, we avoid the conflict with the existing column name 'Sales'."
   ]
  },
  {
   "cell_type": "markdown",
   "metadata": {},
   "source": [
    "## df.sort_values(column, inplace, ascending)"
   ]
  },
  {
   "cell_type": "markdown",
   "metadata": {},
   "source": [
    "Here's a small sample dataset and code snippet to demonstrate how to use df.sort_values(column, inplace=True, ascending=False) to sort column values in a pandas DataFrame:"
   ]
  },
  {
   "cell_type": "code",
   "execution_count": 9,
   "metadata": {},
   "outputs": [
    {
     "name": "stdout",
     "output_type": "stream",
     "text": [
      "      Name  Age\n",
      "2  Charlie   35\n",
      "1      Bob   30\n",
      "0    Alice   25\n"
     ]
    }
   ],
   "source": [
    "import pandas as pd\n",
    "\n",
    "# Create a sample DataFrame\n",
    "data = {'Name': ['Alice', 'Bob', 'Charlie'],\n",
    "        'Age': [25, 30, 35]}\n",
    "df = pd.DataFrame(data)\n",
    "\n",
    "# Sort the DataFrame by the 'Age' column in descending order\n",
    "df.sort_values(by='Age', inplace=True, ascending=False)\n",
    "\n",
    "print(df)"
   ]
  },
  {
   "cell_type": "markdown",
   "metadata": {},
   "source": [
    "As you can see, the DataFrame has been sorted by the 'Age' column in descending order (from largest to smallest).\n",
    "\n",
    "Here's a breakdown of the parameters used:\n",
    "\n",
    "- by: The column(s) to sort by.\n",
    "- inplace: If True, sorts the DataFrame in place, modifying the original DataFrame. If False (default), returns a new sorted DataFrame.\n",
    "- ascending: If True, sort in ascending order. If False, sort in descending order."
   ]
  },
  {
   "cell_type": "markdown",
   "metadata": {},
   "source": []
  }
 ],
 "metadata": {
  "kernelspec": {
   "display_name": "dev",
   "language": "python",
   "name": "python3"
  },
  "language_info": {
   "codemirror_mode": {
    "name": "ipython",
    "version": 3
   },
   "file_extension": ".py",
   "mimetype": "text/x-python",
   "name": "python",
   "nbconvert_exporter": "python",
   "pygments_lexer": "ipython3",
   "version": "3.10.13"
  }
 },
 "nbformat": 4,
 "nbformat_minor": 2
}
