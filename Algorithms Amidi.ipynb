{
 "cells": [
  {
   "cell_type": "markdown",
   "metadata": {},
   "source": [
    "1.1.1 Algorithm\n",
    "\n",
    "Given a problem, an algorithm A is a set of well-defined instructions that runs in a finite amount of time and space. It receives an input I and returns an output O that satisfies the constraints of the problem."
   ]
  }
 ],
 "metadata": {
  "language_info": {
   "name": "python"
  }
 },
 "nbformat": 4,
 "nbformat_minor": 2
}
