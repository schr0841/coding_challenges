{
 "cells": [
  {
   "cell_type": "markdown",
   "metadata": {},
   "source": [
    "## 1.1.1 Algorithm\n",
    "\n",
    "Given a problem, an algorithm A is a set of well-defined instructions that runs in a finite amount of time and space. It receives an input I and returns an output O that satisfies the constraints of the problem."
   ]
  },
  {
   "cell_type": "markdown",
   "metadata": {},
   "source": [
    "## Iteration\n",
    "\n",
    "An iterative algorithm is an algorithm that runs through a sequence of actions. It is characterized by either a for or while loop. \n",
    "\n",
    "Suppose we want to return the sum of all of the elements of a given list. An example of an iterative algorithm would be to sequentially add each element of the list to a variable and then return its final value."
   ]
  },
  {
   "cell_type": "markdown",
   "metadata": {},
   "source": [
    "## Recursion\n",
    "\n",
    "A recursive algorithm uses a function that calls itself. It is composed of the following components:\n",
    "\n",
    "*Base case*: This is the set of inputs for which the outputs are known.\n",
    "\n",
    "*Recursive formula*: The answer of the current step is based on function calls relying on previous steps, eventually using the base case answer."
   ]
  },
  {
   "cell_type": "markdown",
   "metadata": {},
   "source": [
    "### Call stack \n",
    "\n",
    "In a recursive algorithm, the space used by function calls $c_i$ is called the stack space."
   ]
  },
  {
   "cell_type": "markdown",
   "metadata": {},
   "source": [
    "### Stack Overflow\n",
    "\n",
    "The problem of stack overflow occurs when a recursive algorithm uses more stack space than the maximum allowed $N$. \n",
    "\n",
    "A solution to circumvent this bottleneck is to convert the code from being recursive to being iterative so that it relies on memory space, which is typically bigger than stack space."
   ]
  },
  {
   "cell_type": "markdown",
   "metadata": {},
   "source": []
  }
 ],
 "metadata": {
  "language_info": {
   "name": "python"
  }
 },
 "nbformat": 4,
 "nbformat_minor": 2
}
