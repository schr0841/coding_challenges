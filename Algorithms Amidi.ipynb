{
 "cells": [
  {
   "cell_type": "markdown",
   "metadata": {},
   "source": [
    "## 1.1.1 Algorithm\n",
    "\n",
    "Given a problem, an algorithm A is a set of well-defined instructions that runs in a finite amount of time and space. It receives an input I and returns an output O that satisfies the constraints of the problem."
   ]
  },
  {
   "cell_type": "markdown",
   "metadata": {},
   "source": [
    "## Iteration\n",
    "\n",
    "An iterative algorithm is an algorithm that runs through a sequence of actions. It is characterized by either a for or while loop. \n",
    "\n",
    "Suppose we want to return the sum of all of the elements of a given list. An example of an iterative algorithm would be to sequentially add each element of the list to a variable and then return its final value."
   ]
  },
  {
   "cell_type": "markdown",
   "metadata": {},
   "source": [
    "Python example: factorial (iterative)\n",
    "\n",
    "This code defines an iterative function factorial_iterative that calculates the factorial of a non-negative integer using a loop. It starts with the value 1 and multiplies it by each integer from 1 to n. The function handles the base cases of 0 and negative numbers."
   ]
  },
  {
   "cell_type": "code",
   "execution_count": 2,
   "metadata": {},
   "outputs": [
    {
     "name": "stdout",
     "output_type": "stream",
     "text": [
      "120\n"
     ]
    }
   ],
   "source": [
    "def factorial_iterative(n):\n",
    "  \"\"\"Calculates the factorial of a non-negative integer using an iterative approach.\n",
    "\n",
    "  Args:\n",
    "    n: A non-negative integer.\n",
    "\n",
    "  Returns:\n",
    "    The factorial of n.\n",
    "  \"\"\"\n",
    "\n",
    "  if n < 0:\n",
    "    raise ValueError(\"Factorial is not defined for negative numbers.\")\n",
    "\n",
    "  elif n == 0:\n",
    "    return 1\n",
    "\n",
    "  factorial = 1\n",
    "  for i in range(1, n + 1):\n",
    "    factorial *= i\n",
    "  return factorial\n",
    "\n",
    "# Example usage:\n",
    "result = factorial_iterative(5)\n",
    "print(result)  # Output: 120"
   ]
  },
  {
   "cell_type": "markdown",
   "metadata": {},
   "source": [
    "## Recursion\n",
    "\n",
    "A recursive algorithm uses a function that calls itself. It is composed of the following components:\n",
    "\n",
    "*Base case*: This is the set of inputs for which the outputs are known.\n",
    "\n",
    "*Recursive formula*: The answer of the current step is based on function calls relying on previous steps, eventually using the base case answer."
   ]
  },
  {
   "cell_type": "markdown",
   "metadata": {},
   "source": [
    "The following code defines a recursive function ```factorial_recursive``` that calculates the factorial of a non-negative integer using recursion. The function calls itself with a smaller argument until it reaches the base case (n = 0)."
   ]
  },
  {
   "cell_type": "code",
   "execution_count": 5,
   "metadata": {},
   "outputs": [
    {
     "name": "stdout",
     "output_type": "stream",
     "text": [
      "120\n"
     ]
    }
   ],
   "source": [
    "def factorial_recursive(n):\n",
    "  \"\"\"Calculates the factorial of a non-negative integer using a recursive approach.\n",
    "\n",
    "  Args:\n",
    "    n: A non-negative integer.\n",
    "\n",
    "  Returns:\n",
    "    The factorial of n.\n",
    "  \"\"\"\n",
    "\n",
    "  if n < 0:\n",
    "    raise ValueError(\"Factorial is not defined for negative numbers.\")\n",
    "\n",
    "  elif n == 0:\n",
    "    return 1\n",
    "  else:\n",
    "    return n * factorial_recursive(n - 1)\n",
    "\n",
    "# Example usage:\n",
    "result = factorial_recursive(5)\n",
    "print(result)  # Output: 120"
   ]
  },
  {
   "cell_type": "markdown",
   "metadata": {},
   "source": [
    "### Call stack \n",
    "\n",
    "In a recursive algorithm, the space used by function calls $c_i$ is called the stack space."
   ]
  },
  {
   "cell_type": "markdown",
   "metadata": {},
   "source": [
    "### Stack Overflow\n",
    "\n",
    "The problem of stack overflow occurs when a recursive algorithm uses more stack space than the maximum allowed $N$. \n",
    "\n",
    "A solution to circumvent this bottleneck is to convert the code from being recursive to being iterative so that it relies on memory space, which is typically bigger than stack space."
   ]
  },
  {
   "cell_type": "markdown",
   "metadata": {},
   "source": [
    "### Memoization\n",
    "\n",
    "Memoization is an optimization technique aimed at speeding up the runtime by storing results of expensive function calls and returning the cache when the same result is needed."
   ]
  },
  {
   "cell_type": "markdown",
   "metadata": {},
   "source": [
    "## 1.1.2 Types of Algorithms"
   ]
  },
  {
   "cell_type": "markdown",
   "metadata": {},
   "source": [
    "### Brute Force\n",
    "\n",
    "A brute-force approach aims at listing all the possible output candidates of a problem and checking whether any of them satisfies the constraints. It is generally the least efficient way of solving a problem."
   ]
  },
  {
   "cell_type": "markdown",
   "metadata": {},
   "source": [
    "### Backtracking\n",
    "\n",
    "A backtracking algorithm recursively generates potential solutions and prunes those that do not satisfy the problem constraints. It can be seen as a version of brute-force that discards invalid candidates as soon as possible.\n",
    "\n",
    "As an example, the N-Queens problem aims at finding a configuration of N queens on a NxN chessboard where no two queens attack each other. A backtracking approach would consist of placing queens one at a time and prune solution branches that involve queens attacking each other."
   ]
  },
  {
   "cell_type": "markdown",
   "metadata": {},
   "source": [
    "### Greedy"
   ]
  },
  {
   "cell_type": "markdown",
   "metadata": {},
   "source": [
    "A greedy algorithm makes choices that are seen as optimal at every given step. However, It is important to note that the resulting solution may not be globally optimal. This technique often leads to relatively low-complexity algorithms that work reasonably well within the constraints of the problem. "
   ]
  },
  {
   "cell_type": "markdown",
   "metadata": {},
   "source": [
    "### Divide and Conquer"
   ]
  },
  {
   "cell_type": "markdown",
   "metadata": {},
   "source": [
    "A divide and conquer (D&C) algorithm computes the final result of a problem by recursively dividing it into independent subproblems:\n",
    "\n",
    "* Divide - The problem is divided into several independent subproblems.\n",
    "* Conquer - Each subproblem is solved independently.\n",
    "* Combine - The results of all subproblems are combined together to answer the main question.\n",
    "\n",
    "Examples of D&C algorithms are quick sort and merge sort."
   ]
  },
  {
   "cell_type": "markdown",
   "metadata": {},
   "source": [
    "### Dynamic Programming\n",
    "\n",
    "Dynamic Programming (DP) is a method of problem resolution that relies on finding answers to overlapping subproblems. \n",
    "\n",
    "A common example of problem resolution using DP is the computation of the Fibonacci numbers."
   ]
  },
  {
   "cell_type": "markdown",
   "metadata": {},
   "source": []
  }
 ],
 "metadata": {
  "kernelspec": {
   "display_name": "dev",
   "language": "python",
   "name": "python3"
  },
  "language_info": {
   "codemirror_mode": {
    "name": "ipython",
    "version": 3
   },
   "file_extension": ".py",
   "mimetype": "text/x-python",
   "name": "python",
   "nbconvert_exporter": "python",
   "pygments_lexer": "ipython3",
   "version": "3.10.13"
  }
 },
 "nbformat": 4,
 "nbformat_minor": 2
}
