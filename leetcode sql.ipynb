{
 "cells": [
  {
   "cell_type": "markdown",
   "metadata": {},
   "source": [
    "# Collected wisdom from completing (or sort of completing) all free easy or medium SQL challenges on leetcode"
   ]
  },
  {
   "cell_type": "markdown",
   "metadata": {},
   "source": [
    "## Postgres SQL Useful Functions"
   ]
  },
  {
   "cell_type": "markdown",
   "metadata": {},
   "source": [
    "- coalesce\n",
    "- init cap\n",
    "- left and right - for string character extraction\n",
    "- where vs having\n",
    "- count distinct (very slow)\n",
    "- unnest() array\n",
    "- union() for vertically combining tables\n",
    "- is not in  =<>\n",
    "\n",
    "- agg(col) over (order by col2)\n",
    "\n",
    "common table expressions (CTE)\n",
    "with name1 as (query)\n",
    "\n",
    "- dense_rank() function\n",
    "\n",
    "- rank() over (order by col desc) name\n",
    "\n",
    "- dense_rank() vs rank() rank keeps track of position\n",
    "\n",
    "- lag() and lead() window functions\n",
    "\n",
    "- datediff()\n",
    "\n",
    "- date class in postgres\n",
    "\n",
    "- date_part('year',col) from table\n",
    "\n",
    "- to_char(col, date-format)\n"
   ]
  },
  {
   "cell_type": "markdown",
   "metadata": {},
   "source": []
  }
 ],
 "metadata": {
  "language_info": {
   "name": "python"
  }
 },
 "nbformat": 4,
 "nbformat_minor": 2
}
