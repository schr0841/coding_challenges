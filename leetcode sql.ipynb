{
 "cells": [
  {
   "cell_type": "markdown",
   "metadata": {},
   "source": [
    "# Collected wisdom from completing (or sort of completing) all free easy or medium SQL challenges on leetcode"
   ]
  },
  {
   "cell_type": "markdown",
   "metadata": {},
   "source": [
    "## Postgres SQL Useful Functions"
   ]
  },
  {
   "cell_type": "markdown",
   "metadata": {},
   "source": [
    "- coalesce\n",
    "- init cap\n",
    "- left and right - for string character extraction\n",
    "- where vs having\n",
    "- count distinct (very slow)\n",
    "- unnest() array\n",
    "- union() for vertically combining tables\n",
    "- is not in  =<>\n",
    "\n",
    "- agg(col) over (order by col2)\n",
    "\n",
    "common table expressions (CTE)\n",
    "with name1 as (query)\n",
    "\n",
    "- dense_rank() function\n",
    "\n",
    "- rank() over (order by col desc) name\n",
    "\n",
    "- dense_rank() vs rank() rank keeps track of position\n",
    "\n",
    "- lag() and lead() window functions\n",
    "\n",
    "- datediff()\n",
    "\n",
    "- date class in postgres\n",
    "\n",
    "- date_part('year',col) from table\n",
    "\n",
    "- to_char(col, date-format)\n"
   ]
  },
  {
   "cell_type": "markdown",
   "metadata": {},
   "source": [
    "Example: Using COALESCE to Replace NULL Values\n",
    "Scenario:\n",
    "\n",
    "You have a table named customer_orders with columns order_id, customer_name, product_id, and quantity. Some of the product_id values might be NULL, indicating that the product information is missing. You want to replace these NULL values with a default value, such as 'Unknown'."
   ]
  },
  {
   "cell_type": "markdown",
   "metadata": {},
   "source": [
    "```text\n",
    "SELECT order_id, customer_name, COALESCE(product_id, 'Unknown') AS product_id, quantity\n",
    "FROM customer_orders;\n",
    "```"
   ]
  },
  {
   "cell_type": "markdown",
   "metadata": {},
   "source": [
    "Explanation:\n",
    "\n",
    "- COALESCE(product_id, 'Unknown'): This part of the query replaces any NULL values in the product_id column with the string 'Unknown'.\n",
    "- The rest of the query simply selects the desired columns from the customer_orders table.\n",
    "\n",
    "This query will return the same data as the original table, but with any NULL values in the product_id column replaced with 'Unknown'. This can be useful for data analysis or reporting purposes, where it's important to have complete data."
   ]
  },
  {
   "cell_type": "markdown",
   "metadata": {},
   "source": []
  }
 ],
 "metadata": {
  "language_info": {
   "name": "python"
  }
 },
 "nbformat": 4,
 "nbformat_minor": 2
}
