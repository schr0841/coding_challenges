{
 "cells": [
  {
   "cell_type": "markdown",
   "metadata": {},
   "source": [
    "# Collected wisdom from completing (or sort of completing) all free easy or medium SQL challenges on leetcode"
   ]
  },
  {
   "cell_type": "markdown",
   "metadata": {},
   "source": [
    "## Postgres SQL Useful Functions"
   ]
  },
  {
   "cell_type": "markdown",
   "metadata": {},
   "source": [
    "- coalesce\n",
    "- init cap\n",
    "- left and right - for string character extraction\n",
    "- where vs having\n",
    "- count distinct (very slow)\n",
    "- unnest() array\n",
    "- union() for vertically combining tables\n",
    "- is not in  =<>\n",
    "\n",
    "- agg(col) over (order by col2)\n",
    "\n",
    "common table expressions (CTE)\n",
    "with name1 as (query)\n",
    "\n",
    "- dense_rank() function\n",
    "\n",
    "- rank() over (order by col desc) name\n",
    "\n",
    "- dense_rank() vs rank() rank keeps track of position\n",
    "\n",
    "- lag() and lead() window functions\n",
    "\n",
    "- datediff()\n",
    "\n",
    "- date class in postgres\n",
    "\n",
    "- date_part('year',col) from table\n",
    "\n",
    "- to_char(col, date-format)\n"
   ]
  },
  {
   "cell_type": "markdown",
   "metadata": {},
   "source": [
    "## Example: Using COALESCE to Replace NULL Values\n",
    "\n",
    "Scenario:\n",
    "\n",
    "You have a table named customer_orders with columns order_id, customer_name, product_id, and quantity. Some of the product_id values might be NULL, indicating that the product information is missing. You want to replace these NULL values with a default value, such as 'Unknown'."
   ]
  },
  {
   "cell_type": "markdown",
   "metadata": {},
   "source": [
    "```text\n",
    "SELECT order_id, customer_name, COALESCE(product_id, 'Unknown') AS product_id, quantity\n",
    "FROM customer_orders;\n",
    "```"
   ]
  },
  {
   "cell_type": "markdown",
   "metadata": {},
   "source": [
    "Explanation:\n",
    "\n",
    "- COALESCE(product_id, 'Unknown'): This part of the query replaces any NULL values in the product_id column with the string 'Unknown'.\n",
    "- The rest of the query simply selects the desired columns from the customer_orders table.\n",
    "\n",
    "This query will return the same data as the original table, but with any NULL values in the product_id column replaced with 'Unknown'. This can be useful for data analysis or reporting purposes, where it's important to have complete data."
   ]
  },
  {
   "cell_type": "markdown",
   "metadata": {},
   "source": [
    "## Example: Formatting Names with INITCAP()\n",
    "\n",
    "Scenario:\n",
    "\n",
    "You have a table named employees with a column full_name containing employee names in various case formats. You want to standardize the names to proper case (e.g., \"john doe\" becomes \"John Doe\")."
   ]
  },
  {
   "cell_type": "markdown",
   "metadata": {},
   "source": [
    "```text\n",
    "SELECT employee_id, INITCAP(full_name) AS formatted_name\n",
    "FROM employees;\n",
    "```"
   ]
  },
  {
   "cell_type": "markdown",
   "metadata": {},
   "source": [
    "Explanation:\n",
    "\n",
    "- INITCAP(full_name): This function applies the INITCAP() function to the full_name column, capitalizing the first letter of each word and converting the rest to lowercase.\n",
    "- The result is a new column named formatted_name containing the names in proper case format.\n",
    "\n",
    "This query can be useful for improving data consistency, readability, and searchability in applications where standardized naming conventions are important."
   ]
  },
  {
   "cell_type": "markdown",
   "metadata": {},
   "source": [
    "## Example: Extracting First and Last Names from a Full Name\n",
    "\n",
    "Scenario:\n",
    "\n",
    "You have a table named customers with a column full_name containing full names in the format \"FirstName LastName\". You want to extract the first and last names into separate columns."
   ]
  },
  {
   "cell_type": "markdown",
   "metadata": {},
   "source": [
    "```text\n",
    "SELECT customer_id,\n",
    "       LEFT(full_name, POSITION(' ' IN full_name) - 1) AS first_name,\n",
    "       RIGHT(full_name, LENGTH(full_name) - POSITION(' ' IN full_name)) AS last_name\n",
    "FROM customers;\n",
    "```\n"
   ]
  },
  {
   "cell_type": "markdown",
   "metadata": {},
   "source": [
    "Explanation:\n",
    "\n",
    "- LEFT(full_name, POSITION(' ' IN full_name) - 1): This extracts the substring from the beginning of full_name up to (but not including) the first space, representing the first name.\n",
    "- RIGHT(full_name, LENGTH(full_name) - POSITION(' ' IN full_name)): This extracts the substring from the first space in full_name to the end, representing the last name.\n",
    "\n",
    "This query will create two new columns, first_name and last_name, containing the extracted first and last names respectively."
   ]
  },
  {
   "cell_type": "markdown",
   "metadata": {},
   "source": [
    "## Example: WHERE vs. HAVING in PostgreSQL\n",
    "\n",
    "Scenario:\n",
    "\n",
    "You have a table named orders with columns order_id, customer_id, product_id, and quantity. You want to find customers who have placed more than 5 orders."
   ]
  },
  {
   "cell_type": "markdown",
   "metadata": {},
   "source": [
    "Using WHERE:\n",
    "\n",
    "SQL\n",
    "```text\n",
    "SELECT customer_id, COUNT(*) AS total_orders\n",
    "FROM orders\n",
    "WHERE quantity > 0\n",
    "GROUP BY customer_id\n",
    "HAVING total_orders > 5;\n",
    "```"
   ]
  },
  {
   "cell_type": "markdown",
   "metadata": {},
   "source": [
    "Explanation:\n",
    "\n",
    "- WHERE quantity > 0: This filters the data to only include orders with a quantity greater than 0.\n",
    "- GROUP BY customer_id: Groups the results by customer_id.\n",
    "- HAVING total_orders > 5: Filters the grouped results to only include customers with more than 5 orders.   \n"
   ]
  },
  {
   "cell_type": "markdown",
   "metadata": {},
   "source": [
    "Using HAVING:\n",
    "\n",
    "SQL\n",
    "\n",
    "```text\n",
    "SELECT customer_id, COUNT(*) AS total_orders\n",
    "FROM orders\n",
    "GROUP BY customer_id\n",
    "HAVING COUNT(*) > 5;\n",
    "```"
   ]
  },
  {
   "cell_type": "markdown",
   "metadata": {},
   "source": [
    "Explanation:\n",
    "\n",
    "- GROUP BY customer_id: Groups the results by customer_id.\n",
    "- HAVING COUNT(*) > 5: Filters the grouped results directly based on the aggregate function COUNT(*).\n",
    "\n",
    "Key differences:\n",
    "\n",
    "- WHERE: Filters rows before grouping.\n",
    "- HAVING: Filters groups after aggregation.\n",
    "\n",
    "When to use which:\n",
    "\n",
    "- WHERE: Use WHERE to filter rows based on individual column values.\n",
    "- HAVING: Use HAVING to filter groups based on aggregated values.   \n",
    "\n",
    "In this example, both WHERE and HAVING produce the same result. However, HAVING is often more efficient when dealing with large datasets, as it can filter the results after grouping, potentially reducing the amount of data that needs to be processed."
   ]
  },
  {
   "cell_type": "markdown",
   "metadata": {},
   "source": []
  }
 ],
 "metadata": {
  "language_info": {
   "name": "python"
  }
 },
 "nbformat": 4,
 "nbformat_minor": 2
}
